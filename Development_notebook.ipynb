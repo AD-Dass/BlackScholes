{
 "cells": [
  {
   "attachments": {},
   "cell_type": "markdown",
   "metadata": {},
   "source": [
    "## **Black-scholes option modelling**"
   ]
  },
  {
   "cell_type": "code",
   "execution_count": 1,
   "metadata": {
    "vscode": {
     "languageId": "bat"
    }
   },
   "outputs": [
    {
     "name": "stdout",
     "output_type": "stream",
     "text": [
      "Collecting scipy\n",
      "  Using cached scipy-1.10.1-cp310-cp310-win_amd64.whl (42.5 MB)\n",
      "Collecting numpy<1.27.0,>=1.19.5\n",
      "  Using cached numpy-1.24.2-cp310-cp310-win_amd64.whl (14.8 MB)\n",
      "Installing collected packages: numpy, scipy\n",
      "Successfully installed numpy-1.24.2 scipy-1.10.1\n",
      "Note: you may need to restart the kernel to use updated packages.\n"
     ]
    },
    {
     "name": "stderr",
     "output_type": "stream",
     "text": [
      "\n",
      "[notice] A new release of pip available: 22.3.1 -> 23.0.1\n",
      "[notice] To update, run: python.exe -m pip install --upgrade pip\n"
     ]
    }
   ],
   "source": [
    "pip install scipy"
   ]
  },
  {
   "cell_type": "code",
   "execution_count": 2,
   "metadata": {},
   "outputs": [],
   "source": [
    "import numpy as np\n",
    "from scipy.stats import norm"
   ]
  },
  {
   "cell_type": "code",
   "execution_count": 4,
   "metadata": {},
   "outputs": [],
   "source": [
    "\"\"\"\n",
    "INPUTS & PARAMETERS\n",
    "\"\"\"\n",
    "\n",
    "r = 0.01 # Te risk-free-rate\n",
    "S = 30 # The stock price\n",
    "K = 40 # The strike price\n",
    "T = 240/365 # Time units\n",
    "sigma = 0.3 # Stock volatility\n",
    "option_type = \"c\" # Option type either 'c' for european call option or 'p' for put."
   ]
  },
  {
   "cell_type": "code",
   "execution_count": 14,
   "metadata": {},
   "outputs": [],
   "source": [
    "def BlackScholes(r, S, K, T, sigma, option='c'):\n",
    "    \"\"\"\n",
    "    \"\"\"\n",
    "    d1 = (np.log(S/K) + (r + sigma**2/2)*T) / (sigma*np.sqrt(T))\n",
    "    d2 = d1 - sigma*np.sqrt(T)\n",
    "\n",
    "    try:\n",
    "        if option == \"c\":\n",
    "            price = S * norm.cdf(d1, 0 , 1) - K*np.exp(-r*T)*norm.cdf(d2, 0, 1)\n",
    "        elif option == \"p\":\n",
    "            price = K*np.exp(-r*T)*norm.cdf(-d2, 0, 1) - S*norm.cdf(-d1, 0 , 1)\n",
    "    except:\n",
    "        print(\"Confirm correct option type\")\n",
    "        \n",
    "    return price"
   ]
  },
  {
   "cell_type": "code",
   "execution_count": 18,
   "metadata": {},
   "outputs": [
    {
     "name": "stdout",
     "output_type": "stream",
     "text": [
      "Options price is  0.51\n"
     ]
    }
   ],
   "source": [
    "var = round(BlackScholes(r, S, K, T, sigma, option=\"c\"),2)\n",
    "print(\"Options price is \", var)"
   ]
  }
 ],
 "metadata": {
  "kernelspec": {
   "display_name": "venv",
   "language": "python",
   "name": "python3"
  },
  "language_info": {
   "codemirror_mode": {
    "name": "ipython",
    "version": 3
   },
   "file_extension": ".py",
   "mimetype": "text/x-python",
   "name": "python",
   "nbconvert_exporter": "python",
   "pygments_lexer": "ipython3",
   "version": "3.10.10"
  },
  "orig_nbformat": 4,
  "vscode": {
   "interpreter": {
    "hash": "2f730ca26d9d2521dd629c66cd748d9e1284bb5dc46fef56294dd2ba8d4fc42b"
   }
  }
 },
 "nbformat": 4,
 "nbformat_minor": 2
}
